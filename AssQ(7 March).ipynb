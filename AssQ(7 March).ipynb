{
 "cells": [
  {
   "cell_type": "markdown",
   "id": "6196e5ce-206c-4c1b-9052-50d57c855e43",
   "metadata": {},
   "source": [
    "Q1. What are the three measures of central tendency?"
   ]
  },
  {
   "cell_type": "code",
   "execution_count": 1,
   "id": "aacd228a-0456-42da-b945-1f6ec6906c0c",
   "metadata": {},
   "outputs": [],
   "source": [
    "# There are threee measures of central tendency.\n",
    "# 1. Mean or Average\n",
    "# 2. Median\n",
    "# 3. Mode"
   ]
  },
  {
   "cell_type": "markdown",
   "id": "e7918d66-150e-4b95-967d-a4b348b03041",
   "metadata": {},
   "source": [
    "Q2. What is the difference between the mean, median, and mode? How are they used to measure the\n",
    "central tendency of a dataset?"
   ]
  },
  {
   "cell_type": "code",
   "execution_count": 2,
   "id": "07a4d1a1-c3ea-4e49-8b36-fea2ece3bf4f",
   "metadata": {},
   "outputs": [],
   "source": [
    "# Mean :- It is simply the average of elements in a dataset.\n",
    "# . Mean gives the central Tendence\n",
    "import numpy as np"
   ]
  },
  {
   "cell_type": "code",
   "execution_count": 3,
   "id": "64c43a75-d270-4184-a969-a35eb0787e52",
   "metadata": {},
   "outputs": [
    {
     "data": {
      "text/plain": [
       "35.857142857142854"
      ]
     },
     "execution_count": 3,
     "metadata": {},
     "output_type": "execute_result"
    }
   ],
   "source": [
    "data = [44,32,53,22,45,33,22]\n",
    "np.mean(data)"
   ]
  },
  {
   "cell_type": "code",
   "execution_count": 4,
   "id": "7476ca0b-5824-490f-8030-3bd6c44351e8",
   "metadata": {},
   "outputs": [
    {
     "data": {
      "text/plain": [
       "33.0"
      ]
     },
     "execution_count": 4,
     "metadata": {},
     "output_type": "execute_result"
    }
   ],
   "source": [
    "# Median :- Firstly , sort the Random variables.\n",
    "            # count the number of elements\n",
    "            # if count == 'even'\n",
    "                 # then \"median = (a+b)/2\n",
    "            # if count == 'odd'\n",
    "            #   then mode = 'Center'\n",
    "#  Median is used to find the Central Tendency , when outliner is present.\n",
    "\n",
    "data2 = [44,32,53,22,45,33,22]\n",
    "np.median(data2)"
   ]
  },
  {
   "cell_type": "code",
   "execution_count": 5,
   "id": "402237ea-5229-4c72-9ee1-64938239abb2",
   "metadata": {},
   "outputs": [
    {
     "data": {
      "text/plain": [
       "38.5"
      ]
     },
     "execution_count": 5,
     "metadata": {},
     "output_type": "execute_result"
    }
   ],
   "source": [
    "data3 = [44,32,53,22,45,33,22,100] # An outliner is added to it.\n",
    "np.median(data3)"
   ]
  },
  {
   "cell_type": "code",
   "execution_count": 6,
   "id": "f296cfdc-4a23-44a0-a48d-d04e11e1d211",
   "metadata": {},
   "outputs": [],
   "source": [
    "# Mode :- It tells us the maximum occurence of elements in th given dataset.\n",
    "from scipy import stats\n",
    "X = [2,1,1,1,4,5,7,8,9,9,10]"
   ]
  },
  {
   "cell_type": "code",
   "execution_count": 7,
   "id": "b9da3e7e-4999-4afa-9380-01b65cf686a1",
   "metadata": {},
   "outputs": [
    {
     "name": "stderr",
     "output_type": "stream",
     "text": [
      "/tmp/ipykernel_102/3347169207.py:1: FutureWarning: Unlike other reduction functions (e.g. `skew`, `kurtosis`), the default behavior of `mode` typically preserves the axis it acts along. In SciPy 1.11.0, this behavior will change: the default value of `keepdims` will become False, the `axis` over which the statistic is taken will be eliminated, and the value None will no longer be accepted. Set `keepdims` to True or False to avoid this warning.\n",
      "  stats.mode(X)\n"
     ]
    },
    {
     "data": {
      "text/plain": [
       "ModeResult(mode=array([1]), count=array([3]))"
      ]
     },
     "execution_count": 7,
     "metadata": {},
     "output_type": "execute_result"
    }
   ],
   "source": [
    "stats.mode(X)"
   ]
  },
  {
   "cell_type": "markdown",
   "id": "7898853f-5995-4c76-96d5-a2f2668b0cf1",
   "metadata": {},
   "source": [
    "Q3. Measure the three measures of central tendency for the given height data:\n",
    "[178,177,176,177,178.2,178,175,179,180,175,178.9,176.2,177,172.5,178,176.5]"
   ]
  },
  {
   "cell_type": "code",
   "execution_count": 8,
   "id": "14c3796f-d935-4f2d-a8ee-65a503a224ae",
   "metadata": {},
   "outputs": [
    {
     "data": {
      "text/plain": [
       "177.01875"
      ]
     },
     "execution_count": 8,
     "metadata": {},
     "output_type": "execute_result"
    }
   ],
   "source": [
    "import numpy as np\n",
    "h_data = [178,177,176,177,178.2,178,175,179,180,175,178.9,176.2,177,172.5,178,176.5]\n",
    "np.mean(h_data)"
   ]
  },
  {
   "cell_type": "code",
   "execution_count": 9,
   "id": "7f81813f-8c5b-4891-bd06-e04068eec30c",
   "metadata": {},
   "outputs": [
    {
     "data": {
      "text/plain": [
       "177.0"
      ]
     },
     "execution_count": 9,
     "metadata": {},
     "output_type": "execute_result"
    }
   ],
   "source": [
    "np.median(h_data)"
   ]
  },
  {
   "cell_type": "code",
   "execution_count": 10,
   "id": "2851aa50-9371-429b-9548-2a0d296b2489",
   "metadata": {},
   "outputs": [
    {
     "name": "stderr",
     "output_type": "stream",
     "text": [
      "/tmp/ipykernel_102/1122270329.py:2: FutureWarning: Unlike other reduction functions (e.g. `skew`, `kurtosis`), the default behavior of `mode` typically preserves the axis it acts along. In SciPy 1.11.0, this behavior will change: the default value of `keepdims` will become False, the `axis` over which the statistic is taken will be eliminated, and the value None will no longer be accepted. Set `keepdims` to True or False to avoid this warning.\n",
      "  stats.mode(h_data)\n"
     ]
    },
    {
     "data": {
      "text/plain": [
       "ModeResult(mode=array([177.]), count=array([3]))"
      ]
     },
     "execution_count": 10,
     "metadata": {},
     "output_type": "execute_result"
    }
   ],
   "source": [
    "from scipy import stats\n",
    "stats.mode(h_data)"
   ]
  },
  {
   "cell_type": "markdown",
   "id": "c7f142b2-6524-47a9-938b-7041564369c6",
   "metadata": {},
   "source": [
    "Q4. Find the standard deviation for the given data:\n",
    "[178,177,176,177,178.2,178,175,179,180,175,178.9,176.2,177,172.5,178,176.5]"
   ]
  },
  {
   "cell_type": "code",
   "execution_count": 11,
   "id": "d888f758-1840-4917-90cd-b646c83ac769",
   "metadata": {},
   "outputs": [
    {
     "data": {
      "text/plain": [
       "1.7885814036548633"
      ]
     },
     "execution_count": 11,
     "metadata": {},
     "output_type": "execute_result"
    }
   ],
   "source": [
    "# import numpy as np  # Already imported above.\n",
    "g_data = [178,177,176,177,178.2,178,175,179,180,175,178.9,176.2,177,172.5,178,176.5]\n",
    "np.std(g_data)"
   ]
  },
  {
   "cell_type": "markdown",
   "id": "13b2b779-82e1-4f3a-888e-6cfe83eb1675",
   "metadata": {},
   "source": [
    "Q5. How are measures of dispersion such as range, variance, and standard deviation used to describe\n",
    "the spread of a dataset? Provide an example."
   ]
  },
  {
   "cell_type": "code",
   "execution_count": 12,
   "id": "6428c1bc-cecb-430d-aede-8e5d13235dd7",
   "metadata": {},
   "outputs": [],
   "source": [
    "# Range:- \n",
    "#       Range refers to the difference between each series’ minimum and maximum values.\n",
    "#       Range = X max – X min\n",
    "\n",
    "# Variance:- \n",
    "#        defined as a number indicating how spread out the data is.\n",
    "\n",
    "\n",
    "# Standard Deviation:- Standard deviation (SD) is the most commonly used measure of dispersion.\n",
    "#                      It is a measure of spread of data about the mean. \n",
    "#                      SD is the square root of sum of squared deviation from the mean divided by the number of observations\n",
    "\n"
   ]
  },
  {
   "cell_type": "markdown",
   "id": "f639a1d9-ad95-4159-8931-01ee5b45969d",
   "metadata": {},
   "source": [
    "Q6. What is a Venn diagram?"
   ]
  },
  {
   "cell_type": "code",
   "execution_count": 13,
   "id": "2e42fea0-1d94-4ba5-ab11-75bfcd04162f",
   "metadata": {},
   "outputs": [],
   "source": [
    "# Venn diagram :- Venn diagrams are especially useful for highlighting ,\n",
    "#                 similarities and differences and are commonly used to compare and contrast the characteristics of different data sets.\n",
    "    "
   ]
  },
  {
   "cell_type": "markdown",
   "id": "2052a9da-8f13-4973-93ec-b769379a6fe2",
   "metadata": {},
   "source": [
    "Q7. For the two given sets A = (2,3,4,5,6,7) & B = (0,2,6,8,10). Find:\n",
    "(i) A ⋂ B\n",
    "(ii) A ⋃ B"
   ]
  },
  {
   "cell_type": "code",
   "execution_count": 14,
   "id": "b7dbc6f8-1d38-4c75-b5e8-49ec84014bf1",
   "metadata": {},
   "outputs": [],
   "source": [
    "import pandas as pd\n",
    "A = set((2,3,4,5,6,7))\n",
    "B = set((0,2,6,8,10))"
   ]
  },
  {
   "cell_type": "code",
   "execution_count": 15,
   "id": "f881bced-bf3d-4948-8d96-8678636ad6ab",
   "metadata": {},
   "outputs": [],
   "source": [
    "# (i) A ⋂ B\n",
    "inter = A.intersection(B)\n"
   ]
  },
  {
   "cell_type": "code",
   "execution_count": 16,
   "id": "264485ef-ef0f-45e3-990a-9476ce018cc9",
   "metadata": {},
   "outputs": [
    {
     "data": {
      "text/plain": [
       "{2, 6}"
      ]
     },
     "execution_count": 16,
     "metadata": {},
     "output_type": "execute_result"
    }
   ],
   "source": [
    "inter"
   ]
  },
  {
   "cell_type": "code",
   "execution_count": 17,
   "id": "c283fbdd-e8cb-4308-8f38-9fa6fcecc24f",
   "metadata": {},
   "outputs": [],
   "source": [
    "# (ii) A ⋃ B\n",
    "union = A.union(B)"
   ]
  },
  {
   "cell_type": "code",
   "execution_count": 18,
   "id": "562c70ba-e5be-4dfe-ab52-c98926844c2e",
   "metadata": {},
   "outputs": [
    {
     "data": {
      "text/plain": [
       "{0, 2, 3, 4, 5, 6, 7, 8, 10}"
      ]
     },
     "execution_count": 18,
     "metadata": {},
     "output_type": "execute_result"
    }
   ],
   "source": [
    "union"
   ]
  },
  {
   "cell_type": "markdown",
   "id": "97d5cad9-1ef2-4cf9-a457-43feeb973208",
   "metadata": {},
   "source": [
    "Q8. What do you understand about skewness in data?"
   ]
  },
  {
   "cell_type": "code",
   "execution_count": 19,
   "id": "96152022-5672-4625-b2ad-2a7848a67f52",
   "metadata": {},
   "outputs": [],
   "source": [
    "# 1. Skewness tells us the direction of outliers.\n",
    "# 2. In a positive skew, the tail of a distribution curve is longer on the right side.\n",
    "# 3. This means the outliers of the distribution curve are further out towards the right and closer to the mean on the left.\n",
    "# 4. Skewness does not inform on the number of outliers.\n",
    "# 5. It only communicates the direction of outliers."
   ]
  },
  {
   "cell_type": "markdown",
   "id": "30168168-abb4-4e3d-86a3-8aa1889c5c85",
   "metadata": {},
   "source": [
    "Q9. If a data is right skewed then what will be the position of median with respect to mean?"
   ]
  },
  {
   "cell_type": "code",
   "execution_count": 20,
   "id": "e34bd2ce-6d20-42da-aa2b-ccdef2d8c942",
   "metadata": {},
   "outputs": [],
   "source": [
    "# Median is less than the mean\n",
    "# mode<= median<= mean"
   ]
  },
  {
   "cell_type": "markdown",
   "id": "34c4ff7a-d87d-47c8-8850-5f7a4483fbae",
   "metadata": {},
   "source": [
    "Q10. Explain the difference between covariance and correlation. How are these measures used in\n",
    "statistical analysis?"
   ]
  },
  {
   "cell_type": "code",
   "execution_count": 21,
   "id": "535274f5-16eb-44de-a82c-aeac26d7cefc",
   "metadata": {},
   "outputs": [],
   "source": [
    "# Covariance measures:-  the direction of the relationship between two variables.\n",
    "# A positive covariance means that both variables tend to be high or low at the same time.\n",
    "# A negative covariance means that when one variable is high, the other tends to be low.\n",
    "\n"
   ]
  },
  {
   "cell_type": "markdown",
   "id": "01b86ef9-f823-49c5-8036-476669121623",
   "metadata": {},
   "source": [
    "Q11. What is the formula for calculating the sample mean? Provide an example calculation for a\n",
    "dataset."
   ]
  },
  {
   "cell_type": "code",
   "execution_count": 22,
   "id": "2179b7c8-9f4c-4e83-93e1-e690ddec190c",
   "metadata": {},
   "outputs": [],
   "source": [
    "# The formula for calculating the sample mean is :- \n",
    "# sample mean = x̄ = ( Σ xi ) / n ,\n",
    "# where,  xi = data elements\n",
    "         # n = no. of elements\n",
    "    \n",
    "# Ex:- "
   ]
  },
  {
   "cell_type": "code",
   "execution_count": 27,
   "id": "3e727919-2d51-4150-8245-4f29826f09f2",
   "metadata": {},
   "outputs": [
    {
     "data": {
      "text/html": [
       "<div>\n",
       "<style scoped>\n",
       "    .dataframe tbody tr th:only-of-type {\n",
       "        vertical-align: middle;\n",
       "    }\n",
       "\n",
       "    .dataframe tbody tr th {\n",
       "        vertical-align: top;\n",
       "    }\n",
       "\n",
       "    .dataframe thead th {\n",
       "        text-align: right;\n",
       "    }\n",
       "</style>\n",
       "<table border=\"1\" class=\"dataframe\">\n",
       "  <thead>\n",
       "    <tr style=\"text-align: right;\">\n",
       "      <th></th>\n",
       "      <th>total_bill</th>\n",
       "      <th>tip</th>\n",
       "      <th>sex</th>\n",
       "      <th>smoker</th>\n",
       "      <th>day</th>\n",
       "      <th>time</th>\n",
       "      <th>size</th>\n",
       "    </tr>\n",
       "  </thead>\n",
       "  <tbody>\n",
       "    <tr>\n",
       "      <th>0</th>\n",
       "      <td>16.99</td>\n",
       "      <td>1.01</td>\n",
       "      <td>Female</td>\n",
       "      <td>No</td>\n",
       "      <td>Sun</td>\n",
       "      <td>Dinner</td>\n",
       "      <td>2</td>\n",
       "    </tr>\n",
       "    <tr>\n",
       "      <th>1</th>\n",
       "      <td>10.34</td>\n",
       "      <td>1.66</td>\n",
       "      <td>Male</td>\n",
       "      <td>No</td>\n",
       "      <td>Sun</td>\n",
       "      <td>Dinner</td>\n",
       "      <td>3</td>\n",
       "    </tr>\n",
       "    <tr>\n",
       "      <th>2</th>\n",
       "      <td>21.01</td>\n",
       "      <td>3.50</td>\n",
       "      <td>Male</td>\n",
       "      <td>No</td>\n",
       "      <td>Sun</td>\n",
       "      <td>Dinner</td>\n",
       "      <td>3</td>\n",
       "    </tr>\n",
       "    <tr>\n",
       "      <th>3</th>\n",
       "      <td>23.68</td>\n",
       "      <td>3.31</td>\n",
       "      <td>Male</td>\n",
       "      <td>No</td>\n",
       "      <td>Sun</td>\n",
       "      <td>Dinner</td>\n",
       "      <td>2</td>\n",
       "    </tr>\n",
       "    <tr>\n",
       "      <th>4</th>\n",
       "      <td>24.59</td>\n",
       "      <td>3.61</td>\n",
       "      <td>Female</td>\n",
       "      <td>No</td>\n",
       "      <td>Sun</td>\n",
       "      <td>Dinner</td>\n",
       "      <td>4</td>\n",
       "    </tr>\n",
       "  </tbody>\n",
       "</table>\n",
       "</div>"
      ],
      "text/plain": [
       "   total_bill   tip     sex smoker  day    time  size\n",
       "0       16.99  1.01  Female     No  Sun  Dinner     2\n",
       "1       10.34  1.66    Male     No  Sun  Dinner     3\n",
       "2       21.01  3.50    Male     No  Sun  Dinner     3\n",
       "3       23.68  3.31    Male     No  Sun  Dinner     2\n",
       "4       24.59  3.61  Female     No  Sun  Dinner     4"
      ]
     },
     "execution_count": 27,
     "metadata": {},
     "output_type": "execute_result"
    }
   ],
   "source": [
    "import numpy as np\n",
    "import seaborn as sns\n",
    "df = sns.load_dataset('tips')\n",
    "df.head()"
   ]
  },
  {
   "cell_type": "code",
   "execution_count": 28,
   "id": "b477612d-4361-4c4f-92aa-716c6a3c82f8",
   "metadata": {},
   "outputs": [
    {
     "data": {
      "text/plain": [
       "19.78594262295082"
      ]
     },
     "execution_count": 28,
     "metadata": {},
     "output_type": "execute_result"
    }
   ],
   "source": [
    "np.mean(df['total_bill'])"
   ]
  },
  {
   "cell_type": "code",
   "execution_count": 29,
   "id": "62f96cfb-d266-45ee-87f2-1b633fa36b0e",
   "metadata": {},
   "outputs": [
    {
     "data": {
      "text/plain": [
       "2.99827868852459"
      ]
     },
     "execution_count": 29,
     "metadata": {},
     "output_type": "execute_result"
    }
   ],
   "source": [
    "np.mean(df['tip'])"
   ]
  },
  {
   "cell_type": "markdown",
   "id": "24b9ad34-018c-4f83-ba34-a19b75bb648b",
   "metadata": {},
   "source": [
    "Q12. For a normal distribution data what is the relationship between its measure of central tendency?"
   ]
  },
  {
   "cell_type": "code",
   "execution_count": null,
   "id": "f90453ac-8a48-4b97-9344-9ff7ed888566",
   "metadata": {},
   "outputs": [],
   "source": [
    "# For a normal distribution data,  ( Mean = Median = Mode )"
   ]
  },
  {
   "cell_type": "markdown",
   "id": "8ace342a-56f4-4874-b1eb-63a0e4938ba4",
   "metadata": {},
   "source": [
    "Q13. How is covariance different from correlation?"
   ]
  },
  {
   "cell_type": "code",
   "execution_count": 30,
   "id": "724c0b71-3ffd-4ce7-9623-7937efe7f835",
   "metadata": {},
   "outputs": [],
   "source": [
    " # Covariance shows you how the two variables differ, whereas correlation shows you how the two variables are related\n",
    "    "
   ]
  },
  {
   "cell_type": "markdown",
   "id": "10d4e19f-39d3-4a2f-b3b8-48e2e8e5f216",
   "metadata": {},
   "source": [
    "Q14. How do outliers affect measures of central tendency and dispersion? Provide an example."
   ]
  },
  {
   "cell_type": "code",
   "execution_count": 31,
   "id": "9854437f-6f24-4a55-94af-a16e0762082c",
   "metadata": {},
   "outputs": [
    {
     "data": {
      "text/plain": [
       "16.0"
      ]
     },
     "execution_count": 31,
     "metadata": {},
     "output_type": "execute_result"
    }
   ],
   "source": [
    "set_l = [ 11, 15, 10,37, 17, 14,9, 15 ]\n",
    "np.mean(set_l)"
   ]
  },
  {
   "cell_type": "code",
   "execution_count": 32,
   "id": "ef89c81d-910a-4f8d-8d61-6d3ece60ce52",
   "metadata": {},
   "outputs": [
    {
     "data": {
      "text/plain": [
       "25.333333333333332"
      ]
     },
     "execution_count": 32,
     "metadata": {},
     "output_type": "execute_result"
    }
   ],
   "source": [
    "# If we add one outlier in data 'set_l'.\n",
    "set_l2 = [ 11, 15, 10,37, 17, 14,9, 15, 100]\n",
    "np.mean(set_l2)"
   ]
  },
  {
   "cell_type": "code",
   "execution_count": null,
   "id": "37e714c5-382d-4ecd-91f3-69d475737b1c",
   "metadata": {},
   "outputs": [],
   "source": [
    "Here , we can see that, due to a single outlier the differnece is much more as compared to set_l data.\n",
    "Here , "
   ]
  }
 ],
 "metadata": {
  "kernelspec": {
   "display_name": "Python 3 (ipykernel)",
   "language": "python",
   "name": "python3"
  },
  "language_info": {
   "codemirror_mode": {
    "name": "ipython",
    "version": 3
   },
   "file_extension": ".py",
   "mimetype": "text/x-python",
   "name": "python",
   "nbconvert_exporter": "python",
   "pygments_lexer": "ipython3",
   "version": "3.10.6"
  }
 },
 "nbformat": 4,
 "nbformat_minor": 5
}
